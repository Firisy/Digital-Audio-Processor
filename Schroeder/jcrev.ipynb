{
 "cells": [
  {
   "cell_type": "code",
   "execution_count": 1,
   "metadata": {},
   "outputs": [],
   "source": [
    "import numpy as np\n",
    "import scipy.signal as signal\n",
    "import soundfile as sf\n",
    "import IPython.display as ipd\n",
    "from datetime import datetime\n",
    "import newreverb as rvb\n",
    "\n",
    "input_filename = \"../musicpiece/6005660FVS8160229.mp3\"\n",
    "samples, samplerate = sf.read(input_filename)\n",
    "audio = ipd.Audio(input_filename)\n",
    "ipd.display(audio)\n"
   ]
  },
  {
   "cell_type": "code",
   "execution_count": null,
   "metadata": {},
   "outputs": [],
   "source": [
    "mode=rvb.JCREV()\n",
    "chunk_size = 1024\n",
    "output=np.zeros(samples.shape)\n",
    "for i in range(0, len(samples)-chunk_size, chunk_size):\n",
    "    chunk = samples[i:i+chunk_size]\n",
    "    np.copyto(output[i:i+chunk_size],mode.process(chunk))\n",
    "# Normalize the output\n",
    "remaining_samples = samples[i+chunk_size:]  \n",
    "output[i+chunk_size:] = mode.process(remaining_samples) \n"
   ]
  },
  {
   "cell_type": "code",
   "execution_count": null,
   "metadata": {},
   "outputs": [],
   "source": [
    "\n",
    "output_filename = 'jcrev.wav'\n",
    "sf.write(output_filename, output, samplerate)\n",
    "audio = ipd.Audio(output_filename)\n",
    "ipd.display(audio)"
   ]
  },
  {
   "cell_type": "code",
   "execution_count": null,
   "metadata": {},
   "outputs": [],
   "source": [
    "\n",
    "import matplotlib.pyplot as plt  \n",
    "impulse = np.zeros((44100,2))  \n",
    "impulse[0][0] = 1  # 在t=0时刻赋值为1\n",
    "impulse[0][1] = 1\n",
    "\n",
    "modeimpulse=rvb.JCREV()\n",
    "\n",
    "chunk_size = 1024\n",
    "output=np.zeros(impulse.shape)\n",
    "\n",
    "for i in range(0, len(impulse)-chunk_size, chunk_size):\n",
    "    chunk = impulse[i:i+chunk_size]\n",
    "    np.copyto(output[i:i+chunk_size],modeimpulse.process(chunk))\n",
    "# Normalize the output\n",
    "remaining_samples=impulse[i+chunk_size:]\n",
    "output[i+chunk_size:] = mode.process(remaining_samples) \n",
    "\n",
    "impulse_response = output[:,0] \n",
    "# 计算频率响应  \n",
    "frequency_response = np.fft.fft(impulse_response)  \n",
    "  \n",
    "# 计算幅度和相位  \n",
    "magnitude = np.abs(frequency_response)  \n",
    "phase = np.angle(frequency_response)  \n",
    "  \n",
    "# 绘制结果\n",
    "plt.figure(figsize=(30, 20))  # 设置整体图的尺寸  \n",
    "plt.subplot(3, 1, 1)  \n",
    "plt.plot(impulse_response)  \n",
    "plt.title('Impulse Response') \n",
    "plt.xlim(0, 10000) \n",
    "  \n",
    "plt.subplot(3, 1, 2)  \n",
    "plt.plot(magnitude)  \n",
    "plt.title('Magnitude Response')  \n",
    "plt.xlim(0, 100) \n",
    "  \n",
    "plt.subplot(3, 1, 3)  \n",
    "plt.plot(phase)  \n",
    "plt.title('Phase Response')  \n",
    "plt.xlim(0, 100) \n",
    "\n",
    "plt.tight_layout(pad=1.0)  # 增加子图之间的间距\n",
    "plt.show()  "
   ]
  }
 ],
 "metadata": {
  "kernelspec": {
   "display_name": "base",
   "language": "python",
   "name": "python3"
  },
  "language_info": {
   "codemirror_mode": {
    "name": "ipython",
    "version": 3
   },
   "file_extension": ".py",
   "mimetype": "text/x-python",
   "name": "python",
   "nbconvert_exporter": "python",
   "pygments_lexer": "ipython3",
   "version": "3.12.3"
  }
 },
 "nbformat": 4,
 "nbformat_minor": 2
}
